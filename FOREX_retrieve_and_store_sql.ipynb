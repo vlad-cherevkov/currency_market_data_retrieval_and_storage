{
 "cells": [
  {
   "cell_type": "code",
   "execution_count": 133,
   "metadata": {},
   "outputs": [],
   "source": [
    "\n",
    "import requests\n",
    "from sqlalchemy import create_engine\n",
    "import time\n",
    "from datetime import datetime\n",
    "import pandas as pd"
   ]
  },
  {
   "cell_type": "code",
   "execution_count": 134,
   "metadata": {},
   "outputs": [],
   "source": [
    "#I am using the 1forge api for forex by fetching the most recent information about the Euro and US dollar trades\n",
    "#The API gives information about the bid and ask amounts as well as the price of the latest trade executed\n",
    "#I then store that data in my database called forex in the table called eur_to_usd\n",
    "\n",
    "get_url = 'https://forex.1forge.com/1.0.3/quotes?pairs=EURUSD&api_key=qm6HG8iNbl9ElKzBfO3ClG2KqktwJ74q'\n",
    "resp = requests.get(get_url)\n",
    "data = resp.json()"
   ]
  },
  {
   "cell_type": "code",
   "execution_count": 135,
   "metadata": {},
   "outputs": [],
   "source": [
    "#connect to database\n",
    "conn_string = 'mysql://{user}:{password}@{host}/'.format(\n",
    "    host = '35.196.137.214', \n",
    "    user = 'root',\n",
    "    password = '8g4Cb5cgKdDOg4p7')\n",
    "\n",
    "engine = create_engine(conn_string)\n",
    "con = engine.connect()"
   ]
  },
  {
   "cell_type": "code",
   "execution_count": 136,
   "metadata": {},
   "outputs": [
    {
     "name": "stderr",
     "output_type": "stream",
     "text": [
      "/usr/local/lib/python3.6/dist-packages/sqlalchemy/engine/default.py:509: Warning: (1007, \"Can't create database 'forex'; database exists\")\n",
      "  cursor.execute(statement, parameters)\n"
     ]
    },
    {
     "data": {
      "text/plain": [
       "<sqlalchemy.engine.result.ResultProxy at 0x7f94c57a0860>"
      ]
     },
     "execution_count": 136,
     "metadata": {},
     "output_type": "execute_result"
    }
   ],
   "source": [
    "# create a new schema\n",
    "db_name = 'forex'\n",
    "create_db_query = \"CREATE DATABASE IF NOT EXISTS {db} DEFAULT CHARACTER SET 'utf8'\".format(db=db_name)\n",
    "engine.execute(create_db_query)\n"
   ]
  },
  {
   "cell_type": "code",
   "execution_count": 137,
   "metadata": {},
   "outputs": [
    {
     "name": "stderr",
     "output_type": "stream",
     "text": [
      "/usr/local/lib/python3.6/dist-packages/sqlalchemy/engine/default.py:509: Warning: (1050, \"Table 'eur_to_usd' already exists\")\n",
      "  cursor.execute(statement, parameters)\n"
     ]
    },
    {
     "data": {
      "text/plain": [
       "<sqlalchemy.engine.result.ResultProxy at 0x7f94c57a0ef0>"
      ]
     },
     "execution_count": 137,
     "metadata": {},
     "output_type": "execute_result"
    }
   ],
   "source": [
    "# create a new table with time varient data in the database\n",
    "table_name = 'eur_to_usd'\n",
    "create_table_query = '''CREATE TABLE IF NOT EXISTS {db}.{table} \n",
    "                                (ask float, \n",
    "                                bid float,\n",
    "                                price float,\n",
    "                                symbol varchar(10),\n",
    "                                date_time datetime,\n",
    "                                PRIMARY KEY(price, date_time)\n",
    "                                )'''.format(db=db_name, table=table_name)\n",
    "engine.execute(create_table_query)"
   ]
  },
  {
   "cell_type": "code",
   "execution_count": 138,
   "metadata": {},
   "outputs": [],
   "source": [
    "#populate the table\n",
    "\n",
    "\n",
    "query_template = '''INSERT IGNORE INTO {db}.{table}(ask,\n",
    "                                                    bid,\n",
    "                                                    price,\n",
    "                                                    symbol,\n",
    "                                                    date_time)\n",
    "                                            VALUES (%s, %s, %s, %s, %s)'''.format(db=db_name, table=table_name)\n",
    "for entry in data:\n",
    "    ask = float(entry['ask'])\n",
    "    bid = float(entry['bid'])\n",
    "    price = float(entry['price'])\n",
    "    symbol = entry['symbol']\n",
    "    datetime = datetime.fromtimestamp(entry['timestamp'])\n",
    "    \n",
    "    query_parameters = (ask, bid, price, symbol, datetime)\n",
    "    try:\n",
    "        engine.execute(query_template, query_parameters)\n",
    "    except:\n",
    "        break"
   ]
  },
  {
   "cell_type": "code",
   "execution_count": 139,
   "metadata": {},
   "outputs": [
    {
     "data": {
      "text/html": [
       "<div>\n",
       "<style scoped>\n",
       "    .dataframe tbody tr th:only-of-type {\n",
       "        vertical-align: middle;\n",
       "    }\n",
       "\n",
       "    .dataframe tbody tr th {\n",
       "        vertical-align: top;\n",
       "    }\n",
       "\n",
       "    .dataframe thead th {\n",
       "        text-align: right;\n",
       "    }\n",
       "</style>\n",
       "<table border=\"1\" class=\"dataframe\">\n",
       "  <thead>\n",
       "    <tr style=\"text-align: right;\">\n",
       "      <th></th>\n",
       "      <th>ask</th>\n",
       "      <th>bid</th>\n",
       "      <th>price</th>\n",
       "      <th>symbol</th>\n",
       "      <th>date_time</th>\n",
       "    </tr>\n",
       "  </thead>\n",
       "  <tbody>\n",
       "    <tr>\n",
       "      <th>0</th>\n",
       "      <td>1.15776</td>\n",
       "      <td>1.15775</td>\n",
       "      <td>1.15775</td>\n",
       "      <td>EURUSD</td>\n",
       "      <td>2018-10-03 04:10:47</td>\n",
       "    </tr>\n",
       "    <tr>\n",
       "      <th>1</th>\n",
       "      <td>1.15778</td>\n",
       "      <td>1.15777</td>\n",
       "      <td>1.15777</td>\n",
       "      <td>EURUSD</td>\n",
       "      <td>2018-10-03 04:21:56</td>\n",
       "    </tr>\n",
       "    <tr>\n",
       "      <th>2</th>\n",
       "      <td>1.15779</td>\n",
       "      <td>1.15778</td>\n",
       "      <td>1.15779</td>\n",
       "      <td>EURUSD</td>\n",
       "      <td>2018-10-03 04:13:09</td>\n",
       "    </tr>\n",
       "    <tr>\n",
       "      <th>3</th>\n",
       "      <td>1.15789</td>\n",
       "      <td>1.15788</td>\n",
       "      <td>1.15789</td>\n",
       "      <td>EURUSD</td>\n",
       "      <td>2018-10-03 04:22:29</td>\n",
       "    </tr>\n",
       "  </tbody>\n",
       "</table>\n",
       "</div>"
      ],
      "text/plain": [
       "       ask      bid    price  symbol           date_time\n",
       "0  1.15776  1.15775  1.15775  EURUSD 2018-10-03 04:10:47\n",
       "1  1.15778  1.15777  1.15777  EURUSD 2018-10-03 04:21:56\n",
       "2  1.15779  1.15778  1.15779  EURUSD 2018-10-03 04:13:09\n",
       "3  1.15789  1.15788  1.15789  EURUSD 2018-10-03 04:22:29"
      ]
     },
     "execution_count": 139,
     "metadata": {},
     "output_type": "execute_result"
    }
   ],
   "source": [
    "\n",
    "check = pd.read_sql(\"SELECT * FROM forex.eur_to_usd\", con=engine)\n",
    "check"
   ]
  },
  {
   "cell_type": "code",
   "execution_count": null,
   "metadata": {},
   "outputs": [],
   "source": []
  },
  {
   "cell_type": "code",
   "execution_count": null,
   "metadata": {},
   "outputs": [],
   "source": []
  }
 ],
 "metadata": {
  "kernelspec": {
   "display_name": "Python 3",
   "language": "python",
   "name": "python3"
  },
  "language_info": {
   "codemirror_mode": {
    "name": "ipython",
    "version": 3
   },
   "file_extension": ".py",
   "mimetype": "text/x-python",
   "name": "python",
   "nbconvert_exporter": "python",
   "pygments_lexer": "ipython3",
   "version": "3.6.5"
  }
 },
 "nbformat": 4,
 "nbformat_minor": 2
}
